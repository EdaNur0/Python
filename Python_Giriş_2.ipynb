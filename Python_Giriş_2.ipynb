{
  "nbformat": 4,
  "nbformat_minor": 0,
  "metadata": {
    "colab": {
      "provenance": [],
      "collapsed_sections": [
        "KCoHWmSPol7W",
        "rnNFaZvZ7-24"
      ]
    },
    "kernelspec": {
      "name": "python3",
      "display_name": "Python 3"
    },
    "language_info": {
      "name": "python"
    }
  },
  "cells": [
    {
      "cell_type": "markdown",
      "source": [
        "#OPERATÖR HATIRLATMA\n",
        "\n",
        " \n",
        "*   '>' (büyük)\n",
        "*   '<' (küçük)\n",
        "*   '==' (eşit)\n",
        "*   '!=' (eşit değil)\n",
        "*   and (ve)\n",
        "*   or (veya)\n",
        "*   not\n",
        "\n",
        "\n",
        "\n"
      ],
      "metadata": {
        "id": "AjxWTMRMmurn"
      }
    },
    {
      "cell_type": "code",
      "source": [
        "print(20>30)\n",
        "print(10<50)\n",
        "print(10==65)\n",
        "print(36!=1)\n",
        "print(2>1 and 20!=2)\n",
        "print(6==8 or 6!=6)\n",
        "print(not True)\n",
        "print(not(False))\n"
      ],
      "metadata": {
        "colab": {
          "base_uri": "https://localhost:8080/"
        },
        "id": "gGsFkXiXnWDk",
        "outputId": "701f9a20-159d-4adf-f410-35562d105cb7"
      },
      "execution_count": null,
      "outputs": [
        {
          "output_type": "stream",
          "name": "stdout",
          "text": [
            "False\n",
            "True\n",
            "False\n",
            "True\n",
            "True\n",
            "False\n",
            "False\n",
            "True\n"
          ]
        }
      ]
    },
    {
      "cell_type": "markdown",
      "source": [
        "#KOŞUL\n",
        "\n",
        "\n",
        "*   İF/ELSE/ELİF\n",
        "\n",
        "\n"
      ],
      "metadata": {
        "id": "KCoHWmSPol7W"
      }
    },
    {
      "cell_type": "markdown",
      "source": [
        "#İF / ELSE / ELİF"
      ],
      "metadata": {
        "id": "XOygTat7ov-F"
      }
    },
    {
      "cell_type": "code",
      "source": [
        "yas=int(input('Yaşınızı girer misiniz'))\n",
        "\n",
        "#if ise,sağlıyorsa anlamında kullanılır\n",
        "#if koşulundan sonra else dersek if sağlamayanları kapsar\n",
        "\n",
        "if yas>=18:\n",
        "  print('Yüzme havuzumuza kayıt yaptırabilirsiniz')\n",
        "else:\n",
        "  print('Yaş sınırından yüzme havuzuna kayıt yaptıramazsınız')  "
      ],
      "metadata": {
        "colab": {
          "base_uri": "https://localhost:8080/"
        },
        "id": "MzL0e_kHoTwe",
        "outputId": "cf0dd0e5-b9a3-49b8-b613-9bf8dc95a973"
      },
      "execution_count": null,
      "outputs": [
        {
          "output_type": "stream",
          "name": "stdout",
          "text": [
            "Yaşınızı girer misiniz13\n",
            "Yaş sınırından yüzme havuzuna kayıt yaptıramazsınız\n"
          ]
        }
      ]
    },
    {
      "cell_type": "code",
      "source": [
        "Sinav_sonucu= float(input('Sınav sonucunu giriniz'))\n",
        "\n",
        "if Sinav_sonucu >= 75:\n",
        "  print('AA aldınız')\n",
        "elif Sinav_sonucu <75 and Sinav_sonucu >=50:\n",
        "  print('BB aldınız')\n",
        "else:\n",
        "  print('CC aldınız')     \n",
        "\n",
        "# elif birden fazla koşul olduğunda kullanılır.  "
      ],
      "metadata": {
        "colab": {
          "base_uri": "https://localhost:8080/"
        },
        "id": "gr3XU79-pivO",
        "outputId": "60573e6c-7221-4462-ed91-076616b0f3c6"
      },
      "execution_count": null,
      "outputs": [
        {
          "output_type": "stream",
          "name": "stdout",
          "text": [
            "Sınav sonucunu giriniz67\n",
            "BB aldınız\n"
          ]
        }
      ]
    },
    {
      "cell_type": "code",
      "source": [
        "print('********** SAYFA GİRİŞİ **********')\n",
        "kullanici_adı=str(input('Kullanıcı adı: '))\n",
        "parola=int(input('parola: '))\n",
        "\n",
        "print(kullanici_adı)\n",
        "print(parola)"
      ],
      "metadata": {
        "colab": {
          "base_uri": "https://localhost:8080/"
        },
        "id": "OPY4xeNFrT6y",
        "outputId": "e865aa72-2e33-42a1-e359-8c690b393374"
      },
      "execution_count": null,
      "outputs": [
        {
          "output_type": "stream",
          "name": "stdout",
          "text": [
            "********** SAYFA GİRİŞİ **********\n",
            "Kullanıcı adı: ENY\n",
            "parola: 2365\n",
            "ENY\n",
            "2365\n"
          ]
        }
      ]
    },
    {
      "cell_type": "code",
      "source": [
        "#Banka giriş sistemini yapalım\n",
        "#Kullanıcı adı ve şifre girdileri alınsın. Kayıtta ki kullanıcı adı ve şifre ile uyuyormu deneyelim.\n",
        "\n",
        "print('**********  SAYFA GİRİSİ  **********')\n",
        "\n",
        "db_kullanci_adi='EdaYanık'\n",
        "db_sifre= '456123'\n",
        "\n",
        "kullanci_adi= input('KULLANICI ADİNİZİ GİRİNİZ')\n",
        "sifre = input('SİFRENİZİ GİRİNİZ')\n",
        "\n",
        "if kullanci_adi != db_kullanci_adi and sifre == db_sifre :\n",
        "  print('Kullanıcı adınız hatalıdır.')\n",
        "elif kullanci_adi == db_kullanci_adi and sifre != db_sifre :\n",
        "  print('Şifreniz hatalıdır.')\n",
        "elif kullanci_adi != db_kullanci_adi and sifre != db_sifre :\n",
        "  print('Kullanıcı adınız ve şifreniz hatalıdır')\n",
        "else:\n",
        "  print('Doğru giriş yaptınız. Teşekkürler ')  \n"
      ],
      "metadata": {
        "colab": {
          "base_uri": "https://localhost:8080/"
        },
        "id": "N3hCC3aZsZgI",
        "outputId": "d85703fd-3163-4077-ed13-bc9a094bfa29"
      },
      "execution_count": null,
      "outputs": [
        {
          "output_type": "stream",
          "name": "stdout",
          "text": [
            "**********  SAYFA GİRİSİ  **********\n",
            "KULLANICI ADİNİZİ GİRİNİZEdaYanık\n",
            "SİFRENİZİ GİRİNİZ456987\n",
            "Şifreniz hatalıdır.\n"
          ]
        }
      ]
    },
    {
      "cell_type": "code",
      "source": [
        "# İç içe if kullanımı \n",
        "# Birinci if koşulunu sağlıyorsa ikinci if koşuluna geçer.\n",
        "\n",
        "x=10\n",
        "if x>5:\n",
        "  if x<7:\n",
        "    print('5 ile 7 arasında bir sayıdır.')\n",
        "  else:\n",
        "    print('10 7den küçük değil') \n",
        "else:\n",
        "  print('10 5ten küçük değil')     "
      ],
      "metadata": {
        "colab": {
          "base_uri": "https://localhost:8080/"
        },
        "id": "DWMDPpx_2gDd",
        "outputId": "1573ca03-0b8f-468c-c68e-ecd195d7148d"
      },
      "execution_count": null,
      "outputs": [
        {
          "output_type": "stream",
          "name": "stdout",
          "text": [
            "10 7den küçük değil\n"
          ]
        }
      ]
    },
    {
      "cell_type": "code",
      "source": [
        "#Şirkette zam sistemi\n",
        "\n",
        "maas =int( input('Maasinizi giriniz:'))\n",
        "\n",
        "if maas<0:\n",
        "  print('Maas değerinizi yanlış girdiniz.')\n",
        "else:\n",
        "  if 0 < maas <= 1000 :  \n",
        "    maas = maas + maas*0.25    # %25 zam\n",
        "  elif maas <= 2000 :\n",
        "    maas = maas + maas*0.20    # %20 zam\n",
        "  elif maas <= 3000 :\n",
        "    maas = maas + maas*0.15    # %15 zam\n",
        "  else:\n",
        "    maas = maas   \n",
        "\n",
        "print(maas)    "
      ],
      "metadata": {
        "colab": {
          "base_uri": "https://localhost:8080/"
        },
        "id": "7f1Y0vil3tO3",
        "outputId": "723530de-126b-4810-a6f3-dbe5bdf96671"
      },
      "execution_count": null,
      "outputs": [
        {
          "output_type": "stream",
          "name": "stdout",
          "text": [
            "Maasinizi giriniz:2000\n",
            "2400.0\n"
          ]
        }
      ]
    },
    {
      "cell_type": "markdown",
      "source": [
        "#DÖGÜLER\n",
        "\n",
        "*   FOR\n",
        "*   WHİLE\n",
        "\n"
      ],
      "metadata": {
        "id": "rnNFaZvZ7-24"
      }
    },
    {
      "cell_type": "markdown",
      "source": [
        "#FOR "
      ],
      "metadata": {
        "id": "Py5h_FBv8Fqb"
      }
    },
    {
      "cell_type": "code",
      "source": [
        "# Sonuna gelene kadar döndürür\n",
        "\n",
        "for x in 'EdaNurYanık':\n",
        "  print(x)"
      ],
      "metadata": {
        "colab": {
          "base_uri": "https://localhost:8080/"
        },
        "id": "dCakX2ap6zXa",
        "outputId": "c84e7090-8d49-430a-afda-63e34a9a425c"
      },
      "execution_count": null,
      "outputs": [
        {
          "output_type": "stream",
          "name": "stdout",
          "text": [
            "E\n",
            "d\n",
            "a\n",
            "N\n",
            "u\n",
            "r\n",
            "Y\n",
            "a\n",
            "n\n",
            "ı\n",
            "k\n"
          ]
        }
      ]
    },
    {
      "cell_type": "code",
      "source": [
        "# Listede ki son indeks elemanını getirene kadar for sayesinde döner\n",
        "\n",
        "for y in [1,2,3,4,5,6]:\n",
        "  print(y)"
      ],
      "metadata": {
        "colab": {
          "base_uri": "https://localhost:8080/"
        },
        "id": "UsTAmT6c8-Gj",
        "outputId": "f0bef07d-9f7f-477f-d801-27a018bbd5e6"
      },
      "execution_count": null,
      "outputs": [
        {
          "output_type": "stream",
          "name": "stdout",
          "text": [
            "1\n",
            "2\n",
            "3\n",
            "4\n",
            "5\n",
            "6\n"
          ]
        }
      ]
    },
    {
      "cell_type": "markdown",
      "source": [
        "İTERABLE : Tekrar edilebilen veri koleksiyonudur. Liste, dizi, küme, sözlükler, tupple olabilir.\n",
        "\n",
        "İNTERASYON : İterable üzerinde gerçekleştirilen olay."
      ],
      "metadata": {
        "id": "1pjYwvu39koQ"
      }
    },
    {
      "cell_type": "code",
      "source": [
        "oyuncu = {'adi': 'Eda',\n",
        "'soyad': 'YANiK',\n",
        "'rol': 'Engineer'}\n",
        "\n",
        "for x in oyuncu:\n",
        "  print(x)"
      ],
      "metadata": {
        "colab": {
          "base_uri": "https://localhost:8080/"
        },
        "id": "23yAYaDO9UjD",
        "outputId": "3ca4b166-8a3d-4cfe-e019-743c392d2d9e"
      },
      "execution_count": null,
      "outputs": [
        {
          "output_type": "stream",
          "name": "stdout",
          "text": [
            "adi\n",
            "soyad\n",
            "rol\n"
          ]
        }
      ]
    },
    {
      "cell_type": "code",
      "source": [
        "oyuncu = {'adi': 'Eda',\n",
        "'soyad': 'YANiK',\n",
        "'rol': 'Engineer'}\n",
        "\n",
        "oyuncu.items()\n",
        "\n",
        "for x,y in oyuncu.items():\n",
        "  print(x,y)"
      ],
      "metadata": {
        "colab": {
          "base_uri": "https://localhost:8080/"
        },
        "id": "yPO2_UMB_hTn",
        "outputId": "98b82d8d-5c72-4747-df99-4fb96f9fac02"
      },
      "execution_count": null,
      "outputs": [
        {
          "output_type": "stream",
          "name": "stdout",
          "text": [
            "adi Eda\n",
            "soyad YANiK\n",
            "rol Engineer\n"
          ]
        }
      ]
    },
    {
      "cell_type": "code",
      "source": [
        "# range 0'dan istenilen değere kadar sayı getirir.\n",
        "for x in range(10):  #for x in range(0,10): aynı şeyi ifade eder.\n",
        "  print(x)"
      ],
      "metadata": {
        "colab": {
          "base_uri": "https://localhost:8080/"
        },
        "id": "2fAabRgCAPTx",
        "outputId": "99e0d164-6004-4d12-a028-703a5c6975bb"
      },
      "execution_count": null,
      "outputs": [
        {
          "output_type": "stream",
          "name": "stdout",
          "text": [
            "0\n",
            "1\n",
            "2\n",
            "3\n",
            "4\n",
            "5\n",
            "6\n",
            "7\n",
            "8\n",
            "9\n"
          ]
        }
      ]
    },
    {
      "cell_type": "code",
      "source": [
        "# Sıfırdan başla 14 e kadar git ikişer ikişer \n",
        "for x in range(0,14,2):\n",
        "  print(x)"
      ],
      "metadata": {
        "colab": {
          "base_uri": "https://localhost:8080/"
        },
        "id": "TeoCCDzPA6k9",
        "outputId": "07ba4dad-32e9-4361-e2d8-790ddc19b836"
      },
      "execution_count": null,
      "outputs": [
        {
          "output_type": "stream",
          "name": "stdout",
          "text": [
            "0\n",
            "2\n",
            "4\n",
            "6\n",
            "8\n",
            "10\n",
            "12\n"
          ]
        }
      ]
    },
    {
      "cell_type": "code",
      "source": [
        "x=10\n",
        "\n",
        "for y in range(0,15,3):\n",
        "  z = x+y\n",
        "\n",
        "  print(z)"
      ],
      "metadata": {
        "colab": {
          "base_uri": "https://localhost:8080/"
        },
        "id": "VzvDUtjdAzzZ",
        "outputId": "b60671fa-0dce-4da0-a7c8-a7e19db8629a"
      },
      "execution_count": null,
      "outputs": [
        {
          "output_type": "stream",
          "name": "stdout",
          "text": [
            "10\n",
            "13\n",
            "16\n",
            "19\n",
            "22\n"
          ]
        }
      ]
    },
    {
      "cell_type": "code",
      "source": [
        "# tersten gitmesini istersek (..,..,-1) yaparızz\n",
        "\n",
        "for x in range(10,0,-1):\n",
        "  print(x)"
      ],
      "metadata": {
        "colab": {
          "base_uri": "https://localhost:8080/"
        },
        "id": "lYgQ8YEwCQWE",
        "outputId": "d77be094-c2ea-4359-a0af-343cbc420dfd"
      },
      "execution_count": null,
      "outputs": [
        {
          "output_type": "stream",
          "name": "stdout",
          "text": [
            "10\n",
            "9\n",
            "8\n",
            "7\n",
            "6\n",
            "5\n",
            "4\n",
            "3\n",
            "2\n",
            "1\n"
          ]
        }
      ]
    },
    {
      "cell_type": "markdown",
      "source": [
        "ENUMERATE : İndeksler ile birleştirir. "
      ],
      "metadata": {
        "id": "_e1R0HIeYCRw"
      }
    },
    {
      "cell_type": "code",
      "source": [
        "liste =[3,4,5,6,7,8,9]\n",
        "\n",
        "for i,j in enumerate(liste):\n",
        "  print(i,j)   \n",
        "  print(f'index: {i}            deger: {j}') # metin arasına değeri stringe çevirmek için süslü parenteze alırız ve '' tırnakların önüne f koyarız."
      ],
      "metadata": {
        "colab": {
          "base_uri": "https://localhost:8080/"
        },
        "id": "q9KaK8N1CkrP",
        "outputId": "9abefd01-cb8a-4e4d-f050-e857195e31e0"
      },
      "execution_count": null,
      "outputs": [
        {
          "output_type": "stream",
          "name": "stdout",
          "text": [
            "0 3\n",
            "index: 0            deger: 3\n",
            "1 4\n",
            "index: 1            deger: 4\n",
            "2 5\n",
            "index: 2            deger: 5\n",
            "3 6\n",
            "index: 3            deger: 6\n",
            "4 7\n",
            "index: 4            deger: 7\n",
            "5 8\n",
            "index: 5            deger: 8\n",
            "6 9\n",
            "index: 6            deger: 9\n"
          ]
        }
      ]
    },
    {
      "cell_type": "markdown",
      "source": [
        "#WHİLE\n",
        "Koşul doğru olduğu sürece sonsuza kadar çalışır."
      ],
      "metadata": {
        "id": "ySKly_6mZ_R5"
      }
    },
    {
      "cell_type": "code",
      "source": [
        "# 1 litre sürahiye 100 ml bardakla su doldurma.\n",
        "\n",
        "su=100\n",
        "\n",
        "while su<1000:\n",
        "  print('Sürahiyi doldur')\n",
        "  su=su+100\n",
        "\n",
        "print('Sürahi doldu. Teşekkürler')  "
      ],
      "metadata": {
        "colab": {
          "base_uri": "https://localhost:8080/"
        },
        "id": "eNed24LbCkge",
        "outputId": "3abb92ae-aa62-4b5c-ce0b-d2812b8d3173"
      },
      "execution_count": null,
      "outputs": [
        {
          "output_type": "stream",
          "name": "stdout",
          "text": [
            "Sürahiyi doldur\n",
            "Sürahiyi doldur\n",
            "Sürahiyi doldur\n",
            "Sürahiyi doldur\n",
            "Sürahiyi doldur\n",
            "Sürahiyi doldur\n",
            "Sürahiyi doldur\n",
            "Sürahiyi doldur\n",
            "Sürahiyi doldur\n",
            "Sürahi doldu. Teşekkürler\n"
          ]
        }
      ]
    },
    {
      "cell_type": "code",
      "source": [
        "isimler = ['ekrem','ibrahim','ali','ekrem','eda','veli']\n",
        "tekrar_edenler = []\n",
        "\n",
        "for isim in isimler:\n",
        "  if isimler.count(isim) > 1 :\n",
        "    tekrar_edenler.append(isim)\n",
        "\n",
        "print(tekrar_edenler)    "
      ],
      "metadata": {
        "colab": {
          "base_uri": "https://localhost:8080/"
        },
        "id": "f4ZaunJXbPCa",
        "outputId": "db1eeeda-0278-4793-bc54-445c884db2dc"
      },
      "execution_count": null,
      "outputs": [
        {
          "output_type": "stream",
          "name": "stdout",
          "text": [
            "['ekrem', 'ekrem']\n"
          ]
        }
      ]
    },
    {
      "cell_type": "code",
      "source": [
        "isimler = []\n",
        "notlar = []\n",
        "dersler = []\n",
        "durum=True\n",
        "\n",
        "while durum == True :\n",
        "  isim= str(input('İSMİNİZİ GİRİNİZ: '))\n",
        "  notl= float(input('NOTLARINIZI GİRİNİZ: '))\n",
        "  ders= str(input('DERS ADINIZI GİRİNİZ: '))\n",
        "\n",
        "  isimler.append(isim)\n",
        "  notlar.append(notl)\n",
        "  dersler.append(ders)\n",
        "\n",
        "  if len(isimler) > 3:\n",
        "    durum = False"
      ],
      "metadata": {
        "colab": {
          "base_uri": "https://localhost:8080/"
        },
        "id": "tM3GHHHLcvce",
        "outputId": "2987ade8-1972-4c3d-c723-9c5afad14196"
      },
      "execution_count": null,
      "outputs": [
        {
          "name": "stdout",
          "output_type": "stream",
          "text": [
            "İSMİNİZİ GİRİNİZ: eda\n",
            "NOTLARINIZI GİRİNİZ: 95\n",
            "DERS ADINIZI GİRİNİZ: mat\n",
            "İSMİNİZİ GİRİNİZ: seda\n",
            "NOTLARINIZI GİRİNİZ: 36\n",
            "DERS ADINIZI GİRİNİZ: fen\n",
            "İSMİNİZİ GİRİNİZ: sema\n",
            "NOTLARINIZI GİRİNİZ: 69\n",
            "DERS ADINIZI GİRİNİZ: geo\n",
            "İSMİNİZİ GİRİNİZ: ferhat\n",
            "NOTLARINIZI GİRİNİZ: 45\n",
            "DERS ADINIZI GİRİNİZ: tarih\n"
          ]
        }
      ]
    }
  ]
}