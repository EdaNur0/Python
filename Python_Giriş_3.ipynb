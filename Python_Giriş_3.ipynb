{
  "nbformat": 4,
  "nbformat_minor": 0,
  "metadata": {
    "colab": {
      "provenance": [],
      "collapsed_sections": []
    },
    "kernelspec": {
      "name": "python3",
      "display_name": "Python 3"
    },
    "language_info": {
      "name": "python"
    }
  },
  "cells": [
    {
      "cell_type": "markdown",
      "source": [
        "#FONKSİYONLAR\n",
        "\n",
        "* Önceden kullandığımız input(), len() bunlarda \n",
        "fonksiyonlardır.\n",
        "\n",
        "* def fonksiyonları oluştururken kullanırız.\n",
        "\n",
        "* def fonksiyon ismi():\n",
        "\n",
        "  şeklinde kullanılır."
      ],
      "metadata": {
        "id": "i2TiOK391AUo"
      }
    },
    {
      "cell_type": "code",
      "execution_count": null,
      "metadata": {
        "id": "6mZ1YHyF0Gg5"
      },
      "outputs": [],
      "source": [
        "def isim_yazdir():\n",
        "  print('ilk fonksiyonumuz')\n"
      ]
    },
    {
      "cell_type": "code",
      "source": [
        "isim_yazdir()"
      ],
      "metadata": {
        "colab": {
          "base_uri": "https://localhost:8080/"
        },
        "id": "PtklXwXp2O-P",
        "outputId": "4a84b77e-86f9-4eda-e64d-713f0a020a38"
      },
      "execution_count": null,
      "outputs": [
        {
          "output_type": "stream",
          "name": "stdout",
          "text": [
            "ilk fonksiyonumuz\n"
          ]
        }
      ]
    },
    {
      "cell_type": "markdown",
      "source": [
        "#ARGUMANLAR VE PARAMETRELER\n",
        "\n",
        "* Fonksiyonlarımın içine yazdıklarımız \n",
        "parametrelerdir.\n",
        "\n",
        "       def isimler(isim,soyad):\n",
        "          print(isim+soyad)\n",
        "\n",
        "burada ki isim soyad paremetredir\n",
        "\n",
        "\n",
        "\n",
        "* Pythondan oluşturduğumuz fonksiyonu çekerken kullandıklarımız arguman olarak geçiyor.\n",
        "\n",
        "       isimler('ibrahim','betul')\n",
        "\n",
        "burada ibrahim ve betul argumandır.\n"
      ],
      "metadata": {
        "id": "tLcVAp_z2h2x"
      }
    },
    {
      "cell_type": "code",
      "source": [
        "def toplam(x):\n",
        "  print(x)"
      ],
      "metadata": {
        "id": "uJ6s7QKv4wG5"
      },
      "execution_count": null,
      "outputs": []
    },
    {
      "cell_type": "code",
      "source": [
        "toplam(3)"
      ],
      "metadata": {
        "colab": {
          "base_uri": "https://localhost:8080/"
        },
        "id": "h5JER2_34z3l",
        "outputId": "955fed0c-9dcb-4489-f7ee-2172bdbeb292"
      },
      "execution_count": null,
      "outputs": [
        {
          "output_type": "stream",
          "name": "stdout",
          "text": [
            "3\n"
          ]
        }
      ]
    },
    {
      "cell_type": "code",
      "source": [
        "# fonksiyona işlem ekleme yapılırsa hata alırız. Fonksiyon içinde işlemler yapılmalıdır.\n",
        "#Çünkü fonksiyonumuzun sonunda print() yazdır kısmı vardır. Sadece yazdırma kısmını alır ve sadece değeri yazdırır.\n",
        "\n",
        "toplam(30)+1"
      ],
      "metadata": {
        "colab": {
          "base_uri": "https://localhost:8080/",
          "height": 235
        },
        "id": "Q8x23XBl2TJt",
        "outputId": "1ba7dc68-abdb-4178-ed44-80f727d7e284"
      },
      "execution_count": null,
      "outputs": [
        {
          "output_type": "stream",
          "name": "stdout",
          "text": [
            "30\n"
          ]
        },
        {
          "output_type": "error",
          "ename": "TypeError",
          "evalue": "ignored",
          "traceback": [
            "\u001b[0;31m---------------------------------------------------------------------------\u001b[0m",
            "\u001b[0;31mTypeError\u001b[0m                                 Traceback (most recent call last)",
            "\u001b[0;32m<ipython-input-5-1b2d57e4d126>\u001b[0m in \u001b[0;36m<module>\u001b[0;34m\u001b[0m\n\u001b[1;32m      2\u001b[0m \u001b[0;31m#Çünkü fonksiyonumuzun sonunda print() yazdır kısmı vardır. Sadece yazdırma kısmını alır ve sadece değeri yazdırır.\u001b[0m\u001b[0;34m\u001b[0m\u001b[0;34m\u001b[0m\u001b[0;34m\u001b[0m\u001b[0m\n\u001b[1;32m      3\u001b[0m \u001b[0;34m\u001b[0m\u001b[0m\n\u001b[0;32m----> 4\u001b[0;31m \u001b[0mtoplam\u001b[0m\u001b[0;34m(\u001b[0m\u001b[0;36m30\u001b[0m\u001b[0;34m)\u001b[0m\u001b[0;34m+\u001b[0m\u001b[0;36m1\u001b[0m\u001b[0;34m\u001b[0m\u001b[0;34m\u001b[0m\u001b[0m\n\u001b[0m",
            "\u001b[0;31mTypeError\u001b[0m: unsupported operand type(s) for +: 'NoneType' and 'int'"
          ]
        }
      ]
    },
    {
      "cell_type": "code",
      "source": [
        "def toplam(y):\n",
        "  y += 1\n",
        "  return y\n",
        "\n",
        "# return fonksiyonlarda değer döndürmek için kullanıyoruz"
      ],
      "metadata": {
        "id": "0YOWJaHT2aQc"
      },
      "execution_count": null,
      "outputs": []
    },
    {
      "cell_type": "code",
      "source": [
        "toplam(5)"
      ],
      "metadata": {
        "colab": {
          "base_uri": "https://localhost:8080/"
        },
        "id": "yoMDcxw62aNv",
        "outputId": "7ddb4b52-1258-4625-c9dc-eac7b0b54069"
      },
      "execution_count": null,
      "outputs": [
        {
          "output_type": "execute_result",
          "data": {
            "text/plain": [
              "6"
            ]
          },
          "metadata": {},
          "execution_count": 7
        }
      ]
    },
    {
      "cell_type": "code",
      "source": [
        "def carpma(sayi1,sayi2):\n",
        "  return sayi1* sayi2"
      ],
      "metadata": {
        "id": "tW29MTDq714Y"
      },
      "execution_count": null,
      "outputs": []
    },
    {
      "cell_type": "code",
      "source": [
        "carpma(6,5)"
      ],
      "metadata": {
        "colab": {
          "base_uri": "https://localhost:8080/"
        },
        "id": "29a_SjSw8cBD",
        "outputId": "5efab2cf-c92b-434f-f769-6de39d85de05"
      },
      "execution_count": null,
      "outputs": [
        {
          "output_type": "execute_result",
          "data": {
            "text/plain": [
              "30"
            ]
          },
          "metadata": {},
          "execution_count": 9
        }
      ]
    },
    {
      "cell_type": "code",
      "source": [
        "def toplam(rakam1):\n",
        "  def icerideki(rakam2):\n",
        "    return rakam1 + rakam2\n",
        "  return icerideki"
      ],
      "metadata": {
        "id": "QmnDUuY78hlx"
      },
      "execution_count": null,
      "outputs": []
    },
    {
      "cell_type": "code",
      "source": [
        "ekle_10 = toplam(10)"
      ],
      "metadata": {
        "id": "8cbREUMW854E"
      },
      "execution_count": null,
      "outputs": []
    },
    {
      "cell_type": "code",
      "source": [
        "ekle_10(5)"
      ],
      "metadata": {
        "colab": {
          "base_uri": "https://localhost:8080/"
        },
        "id": "6ZX4AE-U9qhA",
        "outputId": "f89900ed-9ad6-42b5-de8d-fa4e436cf2e1"
      },
      "execution_count": null,
      "outputs": [
        {
          "output_type": "execute_result",
          "data": {
            "text/plain": [
              "15"
            ]
          },
          "metadata": {},
          "execution_count": 12
        }
      ]
    },
    {
      "cell_type": "code",
      "source": [
        "def fonk(x,y):\n",
        "  toplama= x + y\n",
        "  carpma= x * y\n",
        "\n",
        "  return toplama, carpma"
      ],
      "metadata": {
        "id": "ah6ElZIs9wAM"
      },
      "execution_count": null,
      "outputs": []
    },
    {
      "cell_type": "code",
      "source": [
        "fonk(5,4)"
      ],
      "metadata": {
        "colab": {
          "base_uri": "https://localhost:8080/"
        },
        "id": "V3u9Wq2H-VSB",
        "outputId": "0855eaad-4a43-4d89-ee1d-6c1d8a84f9d3"
      },
      "execution_count": null,
      "outputs": [
        {
          "output_type": "execute_result",
          "data": {
            "text/plain": [
              "(9, 20)"
            ]
          },
          "metadata": {},
          "execution_count": 14
        }
      ]
    },
    {
      "cell_type": "code",
      "source": [
        "# fonk(6,5) tek bir değere atarsak iki çıktıyı birden alırız.Çarpma ve toplamı iki değere atıyoruz.\n",
        "#İki işlem olduğu için iki değer atadık. İşlem sonuçlarını ayrı yazdırabilelim.\n",
        "tek_toplama,tek_çarpma= fonk(6,5)\n",
        "print(tek_toplama)\n",
        "print(tek_çarpma)"
      ],
      "metadata": {
        "colab": {
          "base_uri": "https://localhost:8080/"
        },
        "id": "aLTVjJfW-Yz8",
        "outputId": "11ce42c9-a1ce-4dde-da38-5cb085092545"
      },
      "execution_count": null,
      "outputs": [
        {
          "output_type": "stream",
          "name": "stdout",
          "text": [
            "11\n",
            "30\n"
          ]
        }
      ]
    },
    {
      "cell_type": "code",
      "source": [
        "#Pozitif mi? Negatif mi?\n",
        " \n",
        "def poz_neg(x):\n",
        "    if x < 0:\n",
        "      return 'Negatif'\n",
        "    elif x > 0:\n",
        "      return 'Pozitif'\n",
        "    else:\n",
        "      return 'Sıfır'    "
      ],
      "metadata": {
        "id": "jgAF4TTP_BQK"
      },
      "execution_count": null,
      "outputs": []
    },
    {
      "cell_type": "code",
      "source": [
        "poz_neg(0)"
      ],
      "metadata": {
        "colab": {
          "base_uri": "https://localhost:8080/",
          "height": 36
        },
        "id": "OaLYKD_4AotG",
        "outputId": "37e258fa-1f4e-477f-e272-d61979762452"
      },
      "execution_count": null,
      "outputs": [
        {
          "output_type": "execute_result",
          "data": {
            "text/plain": [
              "'Sıfır'"
            ],
            "application/vnd.google.colaboratory.intrinsic+json": {
              "type": "string"
            }
          },
          "metadata": {},
          "execution_count": 17
        }
      ]
    },
    {
      "cell_type": "code",
      "source": [
        "poz_neg(5)"
      ],
      "metadata": {
        "colab": {
          "base_uri": "https://localhost:8080/",
          "height": 36
        },
        "id": "89GhZol4A3Do",
        "outputId": "778aa0fb-58f6-4c02-869a-81dd9e5f55ed"
      },
      "execution_count": null,
      "outputs": [
        {
          "output_type": "execute_result",
          "data": {
            "text/plain": [
              "'Pozitif'"
            ],
            "application/vnd.google.colaboratory.intrinsic+json": {
              "type": "string"
            }
          },
          "metadata": {},
          "execution_count": 18
        }
      ]
    },
    {
      "cell_type": "code",
      "source": [
        "poz_neg(-1)"
      ],
      "metadata": {
        "colab": {
          "base_uri": "https://localhost:8080/",
          "height": 36
        },
        "id": "pAI3WJkNA7Jw",
        "outputId": "d49d0675-519f-44ec-f72c-ccdb04cde416"
      },
      "execution_count": null,
      "outputs": [
        {
          "output_type": "execute_result",
          "data": {
            "text/plain": [
              "'Negatif'"
            ],
            "application/vnd.google.colaboratory.intrinsic+json": {
              "type": "string"
            }
          },
          "metadata": {},
          "execution_count": 19
        }
      ]
    },
    {
      "cell_type": "code",
      "source": [
        "# Faktöriyel Hesaplama\n",
        "# 0! = 1\n",
        "# 1! = 1\n",
        "# 2! = 2*1\n",
        "# .\n",
        "# .\n",
        "# 4! = 4*3*2*1\n",
        "\n",
        "\n",
        "x=int(input('x giriniz '))\n",
        "\n",
        "def faktoriyel(x):\n",
        "  \n",
        "  y=1\n",
        "  if x == 0 or x == 1:\n",
        "   print('Sonuç : 1')\n",
        "\n",
        "  else:\n",
        "    while x > 1:\n",
        "      y=y*x\n",
        "      x -= 1\n",
        "  print(f'Sonuç : {y}')     "
      ],
      "metadata": {
        "colab": {
          "base_uri": "https://localhost:8080/"
        },
        "id": "fgbY8gm0A9gp",
        "outputId": "2bd8211c-7c80-4fce-dc32-455619cfa7dc"
      },
      "execution_count": null,
      "outputs": [
        {
          "name": "stdout",
          "output_type": "stream",
          "text": [
            "x giriniz 2\n"
          ]
        }
      ]
    },
    {
      "cell_type": "code",
      "source": [
        "# Faktöriyel Hesaplama\n",
        "# 0! = 1\n",
        "# 1! = 1\n",
        "# 2! = 2*1\n",
        "# .\n",
        "# .\n",
        "# 4! = 4*3*2*1\n",
        "\n",
        "def faktoriyel(x):\n",
        "  y=1\n",
        "  if x == 0 or x == 1:\n",
        "   print('Sonuç : 1')\n",
        "\n",
        "  else:\n",
        "    while x > 1:\n",
        "      y=y*x\n",
        "      x -= 1\n",
        "  print(f'Sonuç : {y}')     "
      ],
      "metadata": {
        "id": "O971IyBHAJyN"
      },
      "execution_count": null,
      "outputs": []
    },
    {
      "cell_type": "code",
      "source": [
        "faktoriyel(6)"
      ],
      "metadata": {
        "colab": {
          "base_uri": "https://localhost:8080/"
        },
        "id": "kn9abt-P9ajs",
        "outputId": "6d2cd141-db2e-47da-a871-cded61d190b7"
      },
      "execution_count": null,
      "outputs": [
        {
          "output_type": "stream",
          "name": "stdout",
          "text": [
            "Sonuç : 720\n"
          ]
        }
      ]
    },
    {
      "cell_type": "code",
      "source": [
        "faktoriyel(0)"
      ],
      "metadata": {
        "colab": {
          "base_uri": "https://localhost:8080/"
        },
        "id": "kRnHanPsBAFR",
        "outputId": "2137c009-ca1a-4d83-f517-063ed5b139e4"
      },
      "execution_count": null,
      "outputs": [
        {
          "output_type": "stream",
          "name": "stdout",
          "text": [
            "Sonuç : 1\n",
            "Sonuç : 1\n"
          ]
        }
      ]
    },
    {
      "cell_type": "markdown",
      "source": [
        "# SCOPE\n",
        "Yazdığımız fonksiyonların hangisine erişim var erişimi yok "
      ],
      "metadata": {
        "id": "sGxw4fcNCnUS"
      }
    },
    {
      "cell_type": "code",
      "source": [
        "sayi = 1 #global değişken\n",
        "\n",
        "def kafa_karistici():\n",
        "  sayi = 10 #local değişken\n",
        "  return sayi"
      ],
      "metadata": {
        "id": "heiL7M3SBLQe"
      },
      "execution_count": null,
      "outputs": []
    },
    {
      "cell_type": "code",
      "source": [
        "print(sayi)\n",
        "kafa_karistici()"
      ],
      "metadata": {
        "colab": {
          "base_uri": "https://localhost:8080/"
        },
        "id": "RtYVshbzDxd7",
        "outputId": "e004142e-efbf-42a9-ac5d-9c97ddc7c32b"
      },
      "execution_count": null,
      "outputs": [
        {
          "output_type": "stream",
          "name": "stdout",
          "text": [
            "1\n"
          ]
        },
        {
          "output_type": "execute_result",
          "data": {
            "text/plain": [
              "10"
            ]
          },
          "metadata": {},
          "execution_count": 76
        }
      ]
    },
    {
      "cell_type": "markdown",
      "source": [
        "# LAMBDA FONKSİYONU\n",
        "\n",
        "Kısa işlemlerde kullanmak için pratik\n",
        "\n",
        "(lambda x: x+1)()"
      ],
      "metadata": {
        "id": "fh4RHaa_Epem"
      }
    },
    {
      "cell_type": "code",
      "source": [
        "(lambda x: x+1)(5)"
      ],
      "metadata": {
        "colab": {
          "base_uri": "https://localhost:8080/"
        },
        "id": "Tk-xB8g0EG4x",
        "outputId": "0c5545c2-84e0-443c-e0c3-69550587cf9c"
      },
      "execution_count": null,
      "outputs": [
        {
          "output_type": "execute_result",
          "data": {
            "text/plain": [
              "6"
            ]
          },
          "metadata": {},
          "execution_count": 77
        }
      ]
    },
    {
      "cell_type": "code",
      "source": [
        "carpma= lambda x: x*5"
      ],
      "metadata": {
        "id": "w_8L2b8aGf9m"
      },
      "execution_count": null,
      "outputs": []
    },
    {
      "cell_type": "code",
      "source": [
        "carpma(3)"
      ],
      "metadata": {
        "colab": {
          "base_uri": "https://localhost:8080/"
        },
        "id": "evmt7u9vGuAe",
        "outputId": "69087e53-3b93-479d-9b8f-3f57417bab64"
      },
      "execution_count": null,
      "outputs": [
        {
          "output_type": "execute_result",
          "data": {
            "text/plain": [
              "15"
            ]
          },
          "metadata": {},
          "execution_count": 82
        }
      ]
    },
    {
      "cell_type": "markdown",
      "source": [
        "#MODÜLLER\n",
        "\n",
        "*   Oluşturulan fonksiyonların toplanmış haline modüller denir."
      ],
      "metadata": {
        "id": "uUwol16EHM5s"
      }
    },
    {
      "cell_type": "code",
      "source": [
        "kelimeler = ['yapay','zeka','makine','ogrenmesi','derin','ogrenme']\n",
        "\n",
        "# import: çalışma ortamına ekle, getir\n",
        "# random: rastgele \n",
        "\n",
        "#from random import * ---> * hepsinin yükle demek import random ile aynı ifade\n",
        "\n",
        "import random as rnd  # as --> random rnd olarak içe aktar . rnd yaptıktan sonra random çalışmaz rnd olarak belirtmek gerekir.\n",
        "\n",
        "def randomkelimeler(kelimeler1):\n",
        "  index = rnd.randint(0,len(kelimeler)-1)  # MODÜLLERİN metodlarına ulaşmak için nokta koyarız rnd.istediğimiz fonksiyon\n",
        "  return kelimeler1[index]"
      ],
      "metadata": {
        "id": "toEpGSKGG4oo"
      },
      "execution_count": null,
      "outputs": []
    },
    {
      "cell_type": "code",
      "source": [
        "randomkelimeler(kelimeler)"
      ],
      "metadata": {
        "colab": {
          "base_uri": "https://localhost:8080/",
          "height": 36
        },
        "id": "MgrSPEjOKtdW",
        "outputId": "309b3c33-daef-43f3-d48c-87e4c0b647b5"
      },
      "execution_count": null,
      "outputs": [
        {
          "output_type": "execute_result",
          "data": {
            "text/plain": [
              "'ogrenme'"
            ],
            "application/vnd.google.colaboratory.intrinsic+json": {
              "type": "string"
            }
          },
          "metadata": {},
          "execution_count": 103
        }
      ]
    },
    {
      "cell_type": "code",
      "source": [
        "randomkelimeler(kelimeler)"
      ],
      "metadata": {
        "colab": {
          "base_uri": "https://localhost:8080/",
          "height": 36
        },
        "id": "zowOfJ5_K0JN",
        "outputId": "6c137f1f-fb36-4929-e737-836ec997f46d"
      },
      "execution_count": null,
      "outputs": [
        {
          "output_type": "execute_result",
          "data": {
            "text/plain": [
              "'yapay'"
            ],
            "application/vnd.google.colaboratory.intrinsic+json": {
              "type": "string"
            }
          },
          "metadata": {},
          "execution_count": 104
        }
      ]
    },
    {
      "cell_type": "code",
      "source": [
        "randomkelimeler(kelimeler)"
      ],
      "metadata": {
        "colab": {
          "base_uri": "https://localhost:8080/",
          "height": 36
        },
        "id": "ui8c9KBHK1I0",
        "outputId": "7a8ea078-9f39-4ad4-ddb1-029a2f4ae2ab"
      },
      "execution_count": null,
      "outputs": [
        {
          "output_type": "execute_result",
          "data": {
            "text/plain": [
              "'ogrenmesi'"
            ],
            "application/vnd.google.colaboratory.intrinsic+json": {
              "type": "string"
            }
          },
          "metadata": {},
          "execution_count": 106
        }
      ]
    },
    {
      "cell_type": "code",
      "source": [
        "kelimeler = ['yapay','zeka','makine','ogrenmesi','derin','ogrenme']\n",
        "import random as rnd  \n",
        "def randomkelimeler(*kelime1): #Yıldız koyduğumuzda istediğimiz kadar değişken ekleyebiliriz. \n",
        "  index = rnd.randint(0,len(kelime1)-1)\n",
        "  return kelime1[index]"
      ],
      "metadata": {
        "id": "ow1JURsZK2XM"
      },
      "execution_count": null,
      "outputs": []
    },
    {
      "cell_type": "code",
      "source": [
        "randomkelimeler('yapay','zeka','makine','ogrenmesi','derin','ogrenme')"
      ],
      "metadata": {
        "colab": {
          "base_uri": "https://localhost:8080/",
          "height": 36
        },
        "id": "ANYzdc4iLWrg",
        "outputId": "7db4495f-ee38-441a-a88e-058265eec011"
      },
      "execution_count": null,
      "outputs": [
        {
          "output_type": "execute_result",
          "data": {
            "text/plain": [
              "'zeka'"
            ],
            "application/vnd.google.colaboratory.intrinsic+json": {
              "type": "string"
            }
          },
          "metadata": {},
          "execution_count": 108
        }
      ]
    },
    {
      "cell_type": "code",
      "source": [
        "randomkelimeler('yapay','zeka','makine','ogrenmesi','derin','ogrenme')"
      ],
      "metadata": {
        "colab": {
          "base_uri": "https://localhost:8080/",
          "height": 36
        },
        "id": "6cz566e8L2JK",
        "outputId": "cf6d9350-e353-4975-8ea7-4e51e6da7c55"
      },
      "execution_count": null,
      "outputs": [
        {
          "output_type": "execute_result",
          "data": {
            "text/plain": [
              "'makine'"
            ],
            "application/vnd.google.colaboratory.intrinsic+json": {
              "type": "string"
            }
          },
          "metadata": {},
          "execution_count": 109
        }
      ]
    },
    {
      "cell_type": "markdown",
      "source": [
        "#EXCEPTİONS"
      ],
      "metadata": {
        "id": "0dNMOdU9O3cr"
      }
    },
    {
      "cell_type": "markdown",
      "source": [
        "1. YAZILIMCI HATASI\n",
        "\n",
        "```\n",
        "      print 'programcı hatası'\n",
        "```\n",
        "2. PROGRAM HATASI\n",
        "\n",
        "3. MANTIK HATASI\n",
        "\n",
        "```\n",
        "       X = 5 / 0\n",
        "```\n",
        "\n",
        "\n",
        "\n",
        "\n"
      ],
      "metadata": {
        "id": "7QQ3F57nOQxd"
      }
    },
    {
      "cell_type": "code",
      "source": [
        "#zerodivisionerror      Sıfıra bölme hatası \n",
        "\n",
        "sayi1 = int(input('sayi giriniz'))\n",
        "sayi2 = int(input('sayi giriniz'))\n",
        "\n",
        "print(sayi1/sayi2)"
      ],
      "metadata": {
        "colab": {
          "base_uri": "https://localhost:8080/",
          "height": 235
        },
        "id": "nyeqJTHMMEVJ",
        "outputId": "9e2d0a9b-9a0a-4f6f-ded4-6fa158e573c4"
      },
      "execution_count": null,
      "outputs": [
        {
          "name": "stdout",
          "output_type": "stream",
          "text": [
            "sayi giriniz5\n",
            "sayi giriniz0\n"
          ]
        },
        {
          "output_type": "error",
          "ename": "ZeroDivisionError",
          "evalue": "ignored",
          "traceback": [
            "\u001b[0;31m---------------------------------------------------------------------------\u001b[0m",
            "\u001b[0;31mZeroDivisionError\u001b[0m                         Traceback (most recent call last)",
            "\u001b[0;32m<ipython-input-110-fb073e517dce>\u001b[0m in \u001b[0;36m<module>\u001b[0;34m\u001b[0m\n\u001b[1;32m      4\u001b[0m \u001b[0msayi2\u001b[0m \u001b[0;34m=\u001b[0m \u001b[0mint\u001b[0m\u001b[0;34m(\u001b[0m\u001b[0minput\u001b[0m\u001b[0;34m(\u001b[0m\u001b[0;34m'sayi giriniz'\u001b[0m\u001b[0;34m)\u001b[0m\u001b[0;34m)\u001b[0m\u001b[0;34m\u001b[0m\u001b[0;34m\u001b[0m\u001b[0m\n\u001b[1;32m      5\u001b[0m \u001b[0;34m\u001b[0m\u001b[0m\n\u001b[0;32m----> 6\u001b[0;31m \u001b[0mprint\u001b[0m\u001b[0;34m(\u001b[0m\u001b[0msayi1\u001b[0m\u001b[0;34m/\u001b[0m\u001b[0msayi2\u001b[0m\u001b[0;34m)\u001b[0m\u001b[0;34m\u001b[0m\u001b[0;34m\u001b[0m\u001b[0m\n\u001b[0m",
            "\u001b[0;31mZeroDivisionError\u001b[0m: division by zero"
          ]
        }
      ]
    },
    {
      "cell_type": "code",
      "source": [
        "# string bir ifade int çevrilmediği için hata alırız.\n",
        "x = 'eda'\n",
        "\n",
        "int(x)"
      ],
      "metadata": {
        "colab": {
          "base_uri": "https://localhost:8080/",
          "height": 200
        },
        "id": "62rNR9a2P0Ei",
        "outputId": "f0296ab2-9846-43e1-a663-77e6262f3658"
      },
      "execution_count": null,
      "outputs": [
        {
          "output_type": "error",
          "ename": "ValueError",
          "evalue": "ignored",
          "traceback": [
            "\u001b[0;31m---------------------------------------------------------------------------\u001b[0m",
            "\u001b[0;31mValueError\u001b[0m                                Traceback (most recent call last)",
            "\u001b[0;32m<ipython-input-111-ca78708b8513>\u001b[0m in \u001b[0;36m<module>\u001b[0;34m\u001b[0m\n\u001b[1;32m      2\u001b[0m \u001b[0mx\u001b[0m \u001b[0;34m=\u001b[0m \u001b[0;34m'eda'\u001b[0m\u001b[0;34m\u001b[0m\u001b[0;34m\u001b[0m\u001b[0m\n\u001b[1;32m      3\u001b[0m \u001b[0;34m\u001b[0m\u001b[0m\n\u001b[0;32m----> 4\u001b[0;31m \u001b[0mint\u001b[0m\u001b[0;34m(\u001b[0m\u001b[0mx\u001b[0m\u001b[0;34m)\u001b[0m\u001b[0;34m\u001b[0m\u001b[0;34m\u001b[0m\u001b[0m\n\u001b[0m",
            "\u001b[0;31mValueError\u001b[0m: invalid literal for int() with base 10: 'eda'"
          ]
        }
      ]
    },
    {
      "cell_type": "code",
      "source": [
        "x = 'EDA'\n",
        "try:     # Hata vermesini düşündüğün kodu yazıyorsun . X ifadesini intr yapmayı dene \n",
        "  int(x)\n",
        "\n",
        "except ValueError:   # Alabileceğin hatayı yazıyorsun . ValueError hatası alırsan \n",
        "  print('Lütfen sayi giriniz')\n"
      ],
      "metadata": {
        "colab": {
          "base_uri": "https://localhost:8080/"
        },
        "id": "Qq66c7EDQHKi",
        "outputId": "ae32eb47-e164-47a9-c922-0ea9c6ac9774"
      },
      "execution_count": null,
      "outputs": [
        {
          "output_type": "stream",
          "name": "stdout",
          "text": [
            "Lütfen sayi giriniz\n"
          ]
        }
      ]
    },
    {
      "cell_type": "code",
      "source": [
        "while True:\n",
        "  sayi1 = input('Sayi giriniz')\n",
        "  if sayi1 == 'q':     # q'ya tıkladığında sonlandır \n",
        "    break\n",
        "  sayi2 = input('Sayi giriniz ')\n",
        " \n",
        "  try:\n",
        "   sayi1_int= int(sayi1)\n",
        "   sayi2_int = int(sayi2)\n",
        "\n",
        "   print(sayi1_int/sayi2_int)\n",
        "\n",
        "  except(ValueError,ZeroDivisionError):\n",
        "    print('HATA ALDINIZ')\n",
        "    print('TEKRAR DENEYİNİZ')\n",
        "\n"
      ],
      "metadata": {
        "colab": {
          "base_uri": "https://localhost:8080/"
        },
        "id": "HZ0MJAFQRFJI",
        "outputId": "bf599065-b490-4975-e8ea-b589ae29a40c"
      },
      "execution_count": null,
      "outputs": [
        {
          "name": "stdout",
          "output_type": "stream",
          "text": [
            "Sayi giriniz65\n",
            "Sayi giriniz 35\n",
            "1.8571428571428572\n",
            "Sayi giriniz10\n",
            "Sayi giriniz 0\n",
            "HATA ALDINIZ\n",
            "TEKRAR DENEYİNİZ\n",
            "Sayi girinizexa\n",
            "Sayi giriniz 9\n",
            "HATA ALDINIZ\n",
            "TEKRAR DENEYİNİZ\n",
            "Sayi girinizq\n"
          ]
        }
      ]
    },
    {
      "cell_type": "code",
      "source": [
        "# REHBER UYGULAMASI \n",
        "# 1.Numara ekle \n",
        "# 2.Kişi silme \n",
        "# 3.Rastgele kişi seçme\n",
        "# Kişileri görüntüle\n",
        "\n",
        "import random as rnd\n",
        "\n",
        "rehber = {}\n",
        "\n",
        "def kisi_ekle(isim,numara):\n",
        "  global rehber               # globalde yapılan veride değişiklik yapmak için global rehber yazdık\n",
        "\n",
        "  if not isim in rehber.keys():   #isim rehberin içerisinde değilse diye kontrol yapılır not tersine çevrilir\n",
        "    rehber[isim] = numara\n",
        "    print('Yeni kisiyi eklediniz')\n",
        "  else:\n",
        "    print('Bu kisi mevcut')\n",
        "\n",
        "def kisi_sil(isim):\n",
        "  global rehber \n",
        "  try:\n",
        "    del rehber[isim]        #del --> sil demek\n",
        "    print('Kisi silindi')\n",
        "  except KeyError:   #Anahtar hatası alınır\n",
        "    print('Kisi bulunamadı')  \n",
        "\n",
        "def rastagele_kisi_sec():\n",
        "  isim = rnd.choice(list(rehber.keys()))   #Listede rastgele bir seçim yapar\n",
        "  return isim,rehber[isim]"
      ],
      "metadata": {
        "id": "OzTe4sSUUBIO"
      },
      "execution_count": null,
      "outputs": []
    },
    {
      "cell_type": "code",
      "source": [
        "kisi_ekle('EDA',456987)\n",
        "kisi_ekle('SEMA',321456)\n",
        "kisi_ekle('AHMET',698547)\n",
        "kisi_ekle('ŞEYMA',456957)\n",
        "kisi_ekle('SEVİM',324456)\n",
        "kisi_ekle('ALİ',6985567)"
      ],
      "metadata": {
        "colab": {
          "base_uri": "https://localhost:8080/"
        },
        "id": "tFJaVyc7nzxd",
        "outputId": "de6afa8c-513d-433f-8965-23dcbc6a363e"
      },
      "execution_count": null,
      "outputs": [
        {
          "output_type": "stream",
          "name": "stdout",
          "text": [
            "Yeni kisiyi eklediniz\n",
            "Yeni kisiyi eklediniz\n",
            "Yeni kisiyi eklediniz\n",
            "Yeni kisiyi eklediniz\n",
            "Yeni kisiyi eklediniz\n",
            "Yeni kisiyi eklediniz\n"
          ]
        }
      ]
    },
    {
      "cell_type": "code",
      "source": [
        "kisi_sil('SEVİM')"
      ],
      "metadata": {
        "colab": {
          "base_uri": "https://localhost:8080/"
        },
        "id": "Nei5E4XboD4-",
        "outputId": "bfca9b07-b0b7-47f9-8175-b3928ee3dd4e"
      },
      "execution_count": null,
      "outputs": [
        {
          "output_type": "stream",
          "name": "stdout",
          "text": [
            "Kisi silindi\n"
          ]
        }
      ]
    },
    {
      "cell_type": "code",
      "source": [
        "kisi_sil('Eda')"
      ],
      "metadata": {
        "colab": {
          "base_uri": "https://localhost:8080/"
        },
        "id": "ru2B1sTdoUeS",
        "outputId": "487376c7-439c-4348-8f9e-dcd3017cce3f"
      },
      "execution_count": null,
      "outputs": [
        {
          "output_type": "stream",
          "name": "stdout",
          "text": [
            "Kisi bulunamadı\n"
          ]
        }
      ]
    },
    {
      "cell_type": "code",
      "source": [
        "rastagele_kisi_sec()"
      ],
      "metadata": {
        "colab": {
          "base_uri": "https://localhost:8080/"
        },
        "id": "ITggrE5DoSOH",
        "outputId": "4f7baf1e-659c-4302-b12a-6641c017048d"
      },
      "execution_count": null,
      "outputs": [
        {
          "output_type": "execute_result",
          "data": {
            "text/plain": [
              "('ŞEYMA', 456957)"
            ]
          },
          "metadata": {},
          "execution_count": 138
        }
      ]
    },
    {
      "cell_type": "code",
      "source": [
        "rastagele_kisi_sec()"
      ],
      "metadata": {
        "colab": {
          "base_uri": "https://localhost:8080/"
        },
        "id": "sVEFSZp0oaNf",
        "outputId": "c71b5804-981c-447f-c227-596212b3d286"
      },
      "execution_count": null,
      "outputs": [
        {
          "output_type": "execute_result",
          "data": {
            "text/plain": [
              "('ALİ', 6985567)"
            ]
          },
          "metadata": {},
          "execution_count": 139
        }
      ]
    }
  ]
}