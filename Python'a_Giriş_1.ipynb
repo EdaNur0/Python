{
  "nbformat": 4,
  "nbformat_minor": 0,
  "metadata": {
    "colab": {
      "provenance": [],
      "collapsed_sections": [
        "kLgm1xXVCSi3",
        "rnCNiBnSDYNt",
        "zK2MXPD-B_le",
        "5T5s_vFUHKS0",
        "YBal6j-2J2vx",
        "a7Fv3WskSfzr",
        "vtq0oSNEdZnm"
      ]
    },
    "kernelspec": {
      "name": "python3",
      "display_name": "Python 3"
    },
    "language_info": {
      "name": "python"
    }
  },
  "cells": [
    {
      "cell_type": "markdown",
      "source": [
        "## PYTHON\n",
        "* Nesne yönelimli bir programlama dili.\n",
        "* Kullanımı ve anlaşılması kolay bir dildir."
      ],
      "metadata": {
        "id": "kLgm1xXVCSi3"
      }
    },
    {
      "cell_type": "markdown",
      "source": [
        "## VERİ TÜRLERİ\n",
        "* int\n",
        "* float \n",
        "* complex\n",
        "* None\n",
        "* str\n",
        "* bool\n",
        "* list\n",
        "* dict\n",
        "* tuple\n",
        "* set\n"
      ],
      "metadata": {
        "id": "rnCNiBnSDYNt"
      }
    },
    {
      "cell_type": "markdown",
      "source": [
        "## SAYILAR \n",
        "* int (tam sayılar)\n",
        "* float (ondalıklı sayılar)\n",
        "* complex (karmaşık sayılar(ive j lerden oluşan sayılar))"
      ],
      "metadata": {
        "id": "zK2MXPD-B_le"
      }
    },
    {
      "cell_type": "code",
      "source": [
        "num=100\n",
        "print(num)\n",
        "# print:yazdırmak"
      ],
      "metadata": {
        "colab": {
          "base_uri": "https://localhost:8080/"
        },
        "id": "XX5X8zEMB-e_",
        "outputId": "5ec05a03-417e-4d2b-ba05-83799cec86df"
      },
      "execution_count": null,
      "outputs": [
        {
          "output_type": "stream",
          "name": "stdout",
          "text": [
            "100\n"
          ]
        }
      ]
    },
    {
      "cell_type": "code",
      "source": [
        "print(type(num))\n",
        "#type:veri türü"
      ],
      "metadata": {
        "colab": {
          "base_uri": "https://localhost:8080/"
        },
        "id": "TLM25ntiE0Ei",
        "outputId": "d4ed6a70-7e28-4842-e821-432a7c96b460"
      },
      "execution_count": null,
      "outputs": [
        {
          "output_type": "stream",
          "name": "stdout",
          "text": [
            "<class 'int'>\n"
          ]
        }
      ]
    },
    {
      "cell_type": "code",
      "source": [
        "num2=8.35\n",
        "print(type(num2))"
      ],
      "metadata": {
        "colab": {
          "base_uri": "https://localhost:8080/"
        },
        "id": "Ab-Nsnr6E-Fo",
        "outputId": "7ee05153-745b-447a-f47c-ba3aeee8334b"
      },
      "execution_count": null,
      "outputs": [
        {
          "output_type": "stream",
          "name": "stdout",
          "text": [
            "<class 'float'>\n"
          ]
        }
      ]
    },
    {
      "cell_type": "code",
      "source": [
        "num3=1+3j\n",
        "print(type(num3))"
      ],
      "metadata": {
        "colab": {
          "base_uri": "https://localhost:8080/"
        },
        "id": "aEr7KIT7Fntt",
        "outputId": "3c53ccfd-6d65-47f1-c0de-a083696962b9"
      },
      "execution_count": null,
      "outputs": [
        {
          "output_type": "stream",
          "name": "stdout",
          "text": [
            "<class 'complex'>\n"
          ]
        }
      ]
    },
    {
      "cell_type": "code",
      "source": [
        "num=2.56\n",
        "print(round(num))\n",
        "#round:yuvarlamak\n",
        "# ya da direk print(round(2.56)) da yazılabilir"
      ],
      "metadata": {
        "colab": {
          "base_uri": "https://localhost:8080/"
        },
        "id": "3rRNdp1uF79Z",
        "outputId": "be11a5c2-a655-48d3-b104-4944634d2490"
      },
      "execution_count": null,
      "outputs": [
        {
          "output_type": "stream",
          "name": "stdout",
          "text": [
            "3\n"
          ]
        }
      ]
    },
    {
      "cell_type": "code",
      "source": [
        "print(abs(-105))\n",
        "#abs : mutlak değer"
      ],
      "metadata": {
        "colab": {
          "base_uri": "https://localhost:8080/"
        },
        "id": "IBGoJ3FQGWUK",
        "outputId": "8d87e3d1-df3c-430e-e0f4-9583408fed8f"
      },
      "execution_count": null,
      "outputs": [
        {
          "output_type": "stream",
          "name": "stdout",
          "text": [
            "105\n"
          ]
        }
      ]
    },
    {
      "cell_type": "markdown",
      "source": [
        "# MATEMATİKSEL OPERATÖRLER"
      ],
      "metadata": {
        "id": "5T5s_vFUHKS0"
      }
    },
    {
      "cell_type": "code",
      "source": [
        "x=10\n",
        "\n",
        "print(x + 2)  #TOPLAMA\n",
        "print(x - 2)  #ÇIKARMA\n",
        "print(x * 2)  #ÇARPMA\n",
        "print(x / 2)  #BÖLME\n",
        "# bölme de sonuç float sayı olur. print(int(x / 2)) denilirse int çıkar."
      ],
      "metadata": {
        "colab": {
          "base_uri": "https://localhost:8080/"
        },
        "id": "6lqpGRcJHPzH",
        "outputId": "e1a38ed5-f6dd-40c0-d9f1-89b121e830df"
      },
      "execution_count": null,
      "outputs": [
        {
          "output_type": "stream",
          "name": "stdout",
          "text": [
            "12\n",
            "8\n",
            "20\n",
            "5.0\n"
          ]
        }
      ]
    },
    {
      "cell_type": "code",
      "source": [
        "print(x ** 3)  # üst alma \n",
        "print(x // 3)  # Sayının 3'e bölümünde bölümü \n",
        "print(x % 3)   # Sayının 3'e bölümünden kalanı"
      ],
      "metadata": {
        "colab": {
          "base_uri": "https://localhost:8080/"
        },
        "id": "7LKOKjXLH7CT",
        "outputId": "5db1b8e8-e90b-4267-a460-796464a28380"
      },
      "execution_count": null,
      "outputs": [
        {
          "output_type": "stream",
          "name": "stdout",
          "text": [
            "1000\n",
            "3\n",
            "1\n"
          ]
        }
      ]
    },
    {
      "cell_type": "markdown",
      "source": [
        "#Değişkenler\n",
        "* A  ve a ya duyarlıdır.İkisi farklı değişkenlerdir.\n",
        "* Verileren değerleri depolar.\n",
        "* Değişkene iki isim verilirse daha düzenli olması için \"_\" kullanılmalı. (sınıf_adı)"
      ],
      "metadata": {
        "id": "YBal6j-2J2vx"
      }
    },
    {
      "cell_type": "markdown",
      "source": [
        "## STRİNGLER\n",
        "* Karakter dizileri (elma, yirmibeş, bu kullanım)"
      ],
      "metadata": {
        "id": "a7Fv3WskSfzr"
      }
    },
    {
      "cell_type": "code",
      "source": [
        "ad1='Eda'\n",
        "ad2=\"Eda\"\n",
        "ad3='''EDA EDA EDA\n",
        "    EDA\n",
        "EDA EDA\n",
        "'''\n",
        "# String ifadeleri tek veya çift tırnakta yazılabilir\n",
        "# Uzun ya da bir kaç tane satırdan oluşan string ifadelerde altı tırnak kullanılır."
      ],
      "metadata": {
        "id": "0s5S6X4WJ49F"
      },
      "execution_count": null,
      "outputs": []
    },
    {
      "cell_type": "code",
      "source": [
        "print(type(ad1))\n",
        "print(type(ad2))\n",
        "print(type(ad3))"
      ],
      "metadata": {
        "id": "G9HJnG3wJc5b",
        "colab": {
          "base_uri": "https://localhost:8080/"
        },
        "outputId": "135c6676-313a-43a9-d46e-22a92497e393"
      },
      "execution_count": null,
      "outputs": [
        {
          "output_type": "stream",
          "name": "stdout",
          "text": [
            "<class 'str'>\n",
            "<class 'str'>\n",
            "<class 'str'>\n"
          ]
        }
      ]
    },
    {
      "cell_type": "code",
      "source": [
        "print(ad1)\n",
        "print(ad2)\n",
        "print(ad3)"
      ],
      "metadata": {
        "colab": {
          "base_uri": "https://localhost:8080/"
        },
        "id": "qh0CGOdkJJ6x",
        "outputId": "caba565f-6fcf-4e57-c074-406d1f7d867b"
      },
      "execution_count": null,
      "outputs": [
        {
          "output_type": "stream",
          "name": "stdout",
          "text": [
            "Eda\n",
            "Eda\n",
            "EDA EDA EDA\n",
            "    EDA\n",
            "EDA EDA\n",
            "\n"
          ]
        }
      ]
    },
    {
      "cell_type": "code",
      "source": [
        "ad='EDANUR '\n",
        "soyad='YANIK'\n",
        "print(ad+soyad)"
      ],
      "metadata": {
        "colab": {
          "base_uri": "https://localhost:8080/"
        },
        "id": "c42pp0oyJP-9",
        "outputId": "f5b4b7a4-2b25-49bb-e4b6-3f2c40c24a7c"
      },
      "execution_count": null,
      "outputs": [
        {
          "output_type": "stream",
          "name": "stdout",
          "text": [
            "EDANUR YANIK\n"
          ]
        }
      ]
    },
    {
      "cell_type": "code",
      "source": [
        "ad='Eda '\n",
        "yaş=25 \n",
        "print(ad+str(yaş)+' yaşında')\n",
        "#aynı değişkenler birleştirilir str eklemeseydik hata alırdık"
      ],
      "metadata": {
        "colab": {
          "base_uri": "https://localhost:8080/"
        },
        "id": "TrXTM-a1JKFS",
        "outputId": "6f515743-a634-48fc-e9c1-4b44712b78e8"
      },
      "execution_count": null,
      "outputs": [
        {
          "output_type": "stream",
          "name": "stdout",
          "text": [
            "Eda 25 yaşında\n"
          ]
        }
      ]
    },
    {
      "cell_type": "code",
      "source": [
        "ad='EDA '\n",
        "soyad='YANIK'\n",
        "karşılama_mesajı='HOŞGELDİNİZ '+ ad + soyad\n",
        "#string biçimlendirme\n",
        "print(karşılama_mesajı)"
      ],
      "metadata": {
        "colab": {
          "base_uri": "https://localhost:8080/"
        },
        "id": "SSJzlUHfV6I4",
        "outputId": "d4ec6d64-7792-4c52-afdf-24e49a989124"
      },
      "execution_count": null,
      "outputs": [
        {
          "output_type": "stream",
          "name": "stdout",
          "text": [
            "HOŞGELDİNİZ EDA YANIK\n"
          ]
        }
      ]
    },
    {
      "cell_type": "code",
      "source": [
        "tam_İsim= 'Edanur YANIK'\n",
        "ilk_Karakter=tam_İsim[0]\n",
        "#indisler 0 dan başlar\n",
        "son_Karakter=tam_İsim[11]\n",
        "print(ilk_Karakter +' '+son_Karakter)"
      ],
      "metadata": {
        "colab": {
          "base_uri": "https://localhost:8080/"
        },
        "id": "eqrl3KLbV6HL",
        "outputId": "d0fc0248-c799-4545-d4ec-3524f3cd0eea"
      },
      "execution_count": null,
      "outputs": [
        {
          "output_type": "stream",
          "name": "stdout",
          "text": [
            "E K\n"
          ]
        }
      ]
    },
    {
      "cell_type": "code",
      "source": [
        "#Stringde aralık yazdırma\n",
        "tam_İsim='Edanur YANIK'\n",
        "aralık=tam_İsim[0:2]\n",
        "#[başlanacak indis:bitirilecek indis]\n",
        "aralık2=tam_İsim[3:]\n",
        "#boşluk olursa sonuna kadar yaz\n",
        "aralık3=tam_İsim[3::3]\n",
        "#en sona eklediğimi :sayi yazılan stringin kaçar kaçar atlanması gerektiğini belirtir(3 yazık 3 er 3 er atlayarak yazdı).\n",
        "print(aralık+'  /  '+aralık2+'  /  '+aralık3)\n"
      ],
      "metadata": {
        "colab": {
          "base_uri": "https://localhost:8080/"
        },
        "id": "t0lhvHl4YZQz",
        "outputId": "c0850bea-9197-493f-b8d3-378e898d341a"
      },
      "execution_count": null,
      "outputs": [
        {
          "output_type": "stream",
          "name": "stdout",
          "text": [
            "Ed  /  nur YANIK  /  n N\n"
          ]
        }
      ]
    },
    {
      "cell_type": "code",
      "source": [
        "tam_İsim='Edanur YANIK'\n",
        "Aralık=tam_İsim[-1]\n",
        "#Sondan başlamak için eksi(-) işareti kullanılır.\n",
        "Aralık2=tam_İsim[::-1]\n",
        "#En sonran - koyarsan sondan yazmaya başlar.\n",
        "Aralık3=tam_İsim[3::-2]\n",
        "print(Aralık+' / '+Aralık2+' / '+Aralık3)"
      ],
      "metadata": {
        "colab": {
          "base_uri": "https://localhost:8080/"
        },
        "id": "1Rd_o4cWbBO6",
        "outputId": "b9178974-4c97-4cfe-d5ee-d7c1e0a93c41"
      },
      "execution_count": null,
      "outputs": [
        {
          "output_type": "stream",
          "name": "stdout",
          "text": [
            "K / KINAY runadE / nd\n"
          ]
        }
      ]
    },
    {
      "cell_type": "markdown",
      "source": [
        "# MANTIKSAL OPERATÖRLER\n",
        "* boolen : TRUE / FALSE\n",
        "* <,>,=\n",
        "* or (veya mantıksal operatör (1-1:1, 1-0:1, 0-0:0)\n",
        "* and (ve mantıksal operatör (1-1:1, 1-0:0, 0-0:0)\n",
        "* not (True döndüreni False, False döndüreni True çevirir)"
      ],
      "metadata": {
        "id": "vtq0oSNEdZnm"
      }
    },
    {
      "cell_type": "code",
      "source": [
        "iyi_mi=True\n",
        "kirli_mi=False\n",
        "\n",
        "print(type(iyi_mi)) "
      ],
      "metadata": {
        "colab": {
          "base_uri": "https://localhost:8080/"
        },
        "id": "4jcZFIV9bMtD",
        "outputId": "1a39a39b-9921-4c91-ef2b-dfa59134aa14"
      },
      "execution_count": null,
      "outputs": [
        {
          "output_type": "stream",
          "name": "stdout",
          "text": [
            "<class 'bool'>\n"
          ]
        }
      ]
    },
    {
      "cell_type": "code",
      "source": [
        "print(10 < 9 , 20 > 12 )"
      ],
      "metadata": {
        "colab": {
          "base_uri": "https://localhost:8080/"
        },
        "id": "OtZIKKfysbW7",
        "outputId": "04c4d4f7-4953-4a62-ec33-ae71629424c6"
      },
      "execution_count": null,
      "outputs": [
        {
          "output_type": "stream",
          "name": "stdout",
          "text": [
            "False True\n"
          ]
        }
      ]
    },
    {
      "cell_type": "code",
      "source": [
        "print(True or True)\n",
        "print(True or False)\n",
        "print(False or False)"
      ],
      "metadata": {
        "colab": {
          "base_uri": "https://localhost:8080/"
        },
        "id": "mewOrgKgs4K7",
        "outputId": "a5d90e7e-c0ed-4dce-c352-ca303baa6009"
      },
      "execution_count": null,
      "outputs": [
        {
          "output_type": "stream",
          "name": "stdout",
          "text": [
            "True\n",
            "True\n",
            "False\n"
          ]
        }
      ]
    },
    {
      "cell_type": "code",
      "source": [
        "print(True and True)\n",
        "print(True and False)\n",
        "print(False and False)"
      ],
      "metadata": {
        "colab": {
          "base_uri": "https://localhost:8080/"
        },
        "id": "tQXa_OBxto_v",
        "outputId": "d827deee-5940-41e7-a850-490b589be560"
      },
      "execution_count": null,
      "outputs": [
        {
          "output_type": "stream",
          "name": "stdout",
          "text": [
            "True\n",
            "False\n",
            "False\n"
          ]
        }
      ]
    },
    {
      "cell_type": "code",
      "source": [
        "x='eda'\n",
        "y='seda'\n",
        "z=' eda'\n",
        "\n",
        "print(x == y, x == x, x == z)\n",
        "# x ve z aynı gibi gözüksede boşlukta bir değer olduğu için aynı değildir\n",
        "aynı_mı= not( x== y)\n",
        "print(aynı_mı)"
      ],
      "metadata": {
        "colab": {
          "base_uri": "https://localhost:8080/"
        },
        "id": "W2MSIF4gt6TX",
        "outputId": "a14abeed-fc24-444f-feda-6dc3223230d5"
      },
      "execution_count": null,
      "outputs": [
        {
          "output_type": "stream",
          "name": "stdout",
          "text": [
            "False True False\n",
            "True\n"
          ]
        }
      ]
    },
    {
      "cell_type": "markdown",
      "source": [
        "#LİSTELER\n",
        "* list\n",
        "* [] parentez kullanılır\n",
        "* String veri tipindeki her bir karakter dizisinin bir elemanıdır.\n",
        "* Liste elemanlarından her biri farklı veri tipinde olabilir.\n",
        "* Her bir elemana indeks numarası ile ulaşabiliriz."
      ],
      "metadata": {
        "id": "sF3gE1tXu-2e"
      }
    },
    {
      "cell_type": "code",
      "source": [
        "a= [1, 'eda' , 0.5]\n",
        "b=list(\"1, 'eda', 0.5\")\n",
        "# a ve b gösterimi de doğrudur.A=[] YA DA B=list(\"\") \n",
        "print(type(a))\n",
        "print(type(b))"
      ],
      "metadata": {
        "id": "oB3G03w4u1ei",
        "colab": {
          "base_uri": "https://localhost:8080/"
        },
        "outputId": "fb311c49-70d0-49c8-860f-b5aceff1c3e6"
      },
      "execution_count": null,
      "outputs": [
        {
          "output_type": "stream",
          "name": "stdout",
          "text": [
            "<class 'list'>\n",
            "<class 'list'>\n"
          ]
        }
      ]
    },
    {
      "cell_type": "code",
      "source": [
        "futbolcular=['ronaldo','messi','ibrahimovic','zinade','beckham']\n",
        "ilk_futbolcu=futbolcular[0]\n",
        "print(ilk_futbolcu)\n",
        "print(futbolcular[0])\n",
        "print(futbolcular[-1])"
      ],
      "metadata": {
        "id": "QZJ2cZusulXK",
        "colab": {
          "base_uri": "https://localhost:8080/"
        },
        "outputId": "08fdc97e-f6b4-437b-b03a-39f55cd3d656"
      },
      "execution_count": null,
      "outputs": [
        {
          "output_type": "stream",
          "name": "stdout",
          "text": [
            "ronaldo\n",
            "ronaldo\n",
            "beckham\n"
          ]
        }
      ]
    },
    {
      "cell_type": "code",
      "source": [
        "futbolcular=['ronaldo','messi','ibrahimovic','zinade','beckham']\n",
        "futbolcular[2]='suarez'\n",
        "#listedeki 2. karakteri değiştirdik\n",
        "print(futbolcular)\n",
        "print(futbolcular[0:3])\n",
        "futbolcular[0:2]='ahmet','eda'\n",
        "print(futbolcular)\n"
      ],
      "metadata": {
        "colab": {
          "base_uri": "https://localhost:8080/"
        },
        "id": "SPvfO-NnywW_",
        "outputId": "388717a4-6f12-471d-8989-6da4171eee45"
      },
      "execution_count": null,
      "outputs": [
        {
          "output_type": "stream",
          "name": "stdout",
          "text": [
            "['ronaldo', 'messi', 'suarez', 'zinade', 'beckham']\n",
            "['ronaldo', 'messi', 'suarez']\n",
            "['ahmet', 'eda', 'suarez', 'zinade', 'beckham']\n"
          ]
        }
      ]
    },
    {
      "cell_type": "code",
      "source": [
        "yildizlar=futbolcular[0:]\n",
        "yildizlar1=futbolcular\n",
        "print(yildizlar)\n",
        "print(yildizlar1)"
      ],
      "metadata": {
        "colab": {
          "base_uri": "https://localhost:8080/"
        },
        "id": "uCdX4SYF0VAr",
        "outputId": "f5807a37-f1e5-4723-b51b-1b3fba6d3ca2"
      },
      "execution_count": null,
      "outputs": [
        {
          "output_type": "stream",
          "name": "stdout",
          "text": [
            "['ahmet', 'eda', 'messi', 'suarez', 'zinade', 'beckham']\n",
            "['ahmet', 'eda', 'messi', 'suarez', 'zinade', 'beckham']\n"
          ]
        }
      ]
    },
    {
      "cell_type": "code",
      "source": [
        "#LİSTEYE ELEMAN EKLEMEK \n",
        "#append listeye eleman eklemek için kullanılır.Listeye elemanı sondan ekler\n",
        "sayilar=[10,20,30,40,50]\n",
        "sayilar.append(60)\n",
        "print(sayilar)"
      ],
      "metadata": {
        "colab": {
          "base_uri": "https://localhost:8080/"
        },
        "id": "m1GptJcn6PVs",
        "outputId": "d0bd789e-2e3b-4704-8da8-25969f550954"
      },
      "execution_count": null,
      "outputs": [
        {
          "output_type": "stream",
          "name": "stdout",
          "text": [
            "[10, 20, 30, 40, 50, 60]\n"
          ]
        }
      ]
    },
    {
      "cell_type": "code",
      "source": [
        "#insert istenilen indekse eleman ekleme. insert(indeks sayısı,eklenecek değer)\n",
        "sayilar.insert(0,5)\n",
        "print(sayilar)\n",
        "sayilar.insert(-2,45)\n",
        "print(sayilar)"
      ],
      "metadata": {
        "colab": {
          "base_uri": "https://localhost:8080/"
        },
        "id": "1ucRWpSM7Y33",
        "outputId": "122f73e8-8ef2-4d8b-a521-1d287e064220"
      },
      "execution_count": null,
      "outputs": [
        {
          "output_type": "stream",
          "name": "stdout",
          "text": [
            "[5, 10, 20, 30, 40, 50, 60]\n",
            "[5, 10, 20, 30, 40, 45, 50, 60]\n"
          ]
        }
      ]
    },
    {
      "cell_type": "code",
      "source": [
        "#extend listemize liste eklemek için kullanılır.Yeni listemizi sonuna ekler.\n",
        "ek_Sayilar=[15,25,35]\n",
        "sayilar.extend(ek_Sayilar)\n",
        "print(sayilar)\n",
        "sayilar.extend([55,65])\n",
        "print(sayilar)"
      ],
      "metadata": {
        "colab": {
          "base_uri": "https://localhost:8080/"
        },
        "id": "bLPAnNX48XW-",
        "outputId": "1b533f3a-bbd9-46c9-d769-2c62a6fb55c4"
      },
      "execution_count": null,
      "outputs": [
        {
          "output_type": "stream",
          "name": "stdout",
          "text": [
            "[5, 10, 20, 30, 40, 45, 50, 60, 15, 25, 35]\n",
            "[5, 10, 20, 30, 40, 45, 50, 60, 15, 25, 35, 55, 65]\n"
          ]
        }
      ]
    },
    {
      "cell_type": "code",
      "source": [
        "len(sayilar)\n",
        "#listemiz içinde kaç eleman olduğunu öğrenmek için kullanılır"
      ],
      "metadata": {
        "colab": {
          "base_uri": "https://localhost:8080/"
        },
        "id": "y9p8YhMS9svm",
        "outputId": "de08c9b3-7a26-4536-af45-d0dc2cf7bad9"
      },
      "execution_count": null,
      "outputs": [
        {
          "output_type": "execute_result",
          "data": {
            "text/plain": [
              "13"
            ]
          },
          "metadata": {},
          "execution_count": 150
        }
      ]
    },
    {
      "cell_type": "code",
      "source": [
        "#LİSTEDEN ELEMAN SİLMEK\n",
        "#pop listemizden eleman silmek için kullanılır\n",
        "\n",
        "çiçekler=['papatya','gül','nergiz','leylak']\n",
        "print(çiçekler)\n",
        "çiçekler.pop(1)\n",
        "print(çiçekler)\n",
        "çiçekler.pop()\n",
        "#indeks belirmezsen sondan silme yapar\n",
        "print(çiçekler)"
      ],
      "metadata": {
        "colab": {
          "base_uri": "https://localhost:8080/"
        },
        "id": "0NvxhY9X-Ss8",
        "outputId": "006efc9e-87a0-4f4e-e0e1-60358f39bd0b"
      },
      "execution_count": null,
      "outputs": [
        {
          "output_type": "stream",
          "name": "stdout",
          "text": [
            "['papatya', 'gül', 'nergiz', 'leylak']\n",
            "['papatya', 'nergiz', 'leylak']\n",
            "['papatya', 'nergiz']\n"
          ]
        }
      ]
    },
    {
      "cell_type": "code",
      "source": [
        "#remove listede ki elemanımızı yazarak çıkartırız\n",
        "çiçekler=['papatya','gül','nergiz','leylak']\n",
        "çiçekler.remove('nergiz')\n",
        "print(çiçekler)\n"
      ],
      "metadata": {
        "colab": {
          "base_uri": "https://localhost:8080/"
        },
        "id": "81GTek5C_XJT",
        "outputId": "03743c33-666f-48d3-cc59-50f06bfd5ac8"
      },
      "execution_count": null,
      "outputs": [
        {
          "output_type": "stream",
          "name": "stdout",
          "text": [
            "['papatya', 'gül', 'leylak']\n"
          ]
        }
      ]
    },
    {
      "cell_type": "code",
      "source": [
        "#clear bütün listeyi sil\n",
        "çiçekler=['papatya','gül','nergiz','leylak']\n",
        "çiçekler.clear()\n",
        "print(çiçekler)"
      ],
      "metadata": {
        "colab": {
          "base_uri": "https://localhost:8080/"
        },
        "id": "qN8dd2TtAHsT",
        "outputId": "71a9fd61-caee-4bdf-d730-9a08f144b326"
      },
      "execution_count": null,
      "outputs": [
        {
          "output_type": "stream",
          "name": "stdout",
          "text": [
            "[]\n"
          ]
        }
      ]
    },
    {
      "cell_type": "code",
      "source": [
        "#indeksleri almak ve saymak\n",
        "alfabe=['a','b','c','d','a','a','a','b']\n",
        "\n",
        "#istediğim bir elemanın indexsini(konumunu) bulmak için\n",
        "alfabe.index('c')"
      ],
      "metadata": {
        "colab": {
          "base_uri": "https://localhost:8080/"
        },
        "id": "NLECzdf7AhHu",
        "outputId": "c86fe2d1-d0e1-4a56-d449-0fdf0b26f223"
      },
      "execution_count": null,
      "outputs": [
        {
          "output_type": "execute_result",
          "data": {
            "text/plain": [
              "2"
            ]
          },
          "metadata": {},
          "execution_count": 7
        }
      ]
    },
    {
      "cell_type": "code",
      "source": [
        "alfabe.index('a')\n",
        "#ilk a'nın konumunu verir"
      ],
      "metadata": {
        "colab": {
          "base_uri": "https://localhost:8080/"
        },
        "id": "UD1ZuL8fByVh",
        "outputId": "ba462408-5aa7-49b7-953e-14b28b2c5a06"
      },
      "execution_count": null,
      "outputs": [
        {
          "output_type": "execute_result",
          "data": {
            "text/plain": [
              "0"
            ]
          },
          "metadata": {},
          "execution_count": 8
        }
      ]
    },
    {
      "cell_type": "code",
      "source": [
        "#count listemde kaç adet elemanım var onu öğrenmek için kullanılır.\n",
        "alfabe.count('a')"
      ],
      "metadata": {
        "colab": {
          "base_uri": "https://localhost:8080/"
        },
        "id": "TinUmU6jB--g",
        "outputId": "5ce75039-81cd-4bd9-fbe8-28c4b50a0d08"
      },
      "execution_count": null,
      "outputs": [
        {
          "output_type": "execute_result",
          "data": {
            "text/plain": [
              "4"
            ]
          },
          "metadata": {},
          "execution_count": 9
        }
      ]
    },
    {
      "cell_type": "code",
      "source": [
        "#Sıralama\n",
        "#sort ile küçükten büyüğe sıralama yaparız\n",
        "# harfler olsaydı alfabeye göre bir sıralama olacaktı\n",
        "Sayi=[1,9,3,4,6,12,65,53,13,75,36,3,15,49,6,80]\n",
        "Sayi.sort()\n",
        "print(Sayi)"
      ],
      "metadata": {
        "colab": {
          "base_uri": "https://localhost:8080/"
        },
        "id": "GpvYwRRUCPj9",
        "outputId": "98e516af-441b-4d36-a97f-0c7d6b3f982c"
      },
      "execution_count": null,
      "outputs": [
        {
          "output_type": "stream",
          "name": "stdout",
          "text": [
            "[1, 3, 3, 4, 6, 6, 9, 12, 13, 15, 36, 49, 53, 65, 75, 80]\n"
          ]
        }
      ]
    },
    {
      "cell_type": "code",
      "source": [
        "isimler=['eda','ayşe','mehmet','burak']\n",
        "#ilk harflere göre sıralama yaptı\n",
        "isimler.sort()\n",
        "print(isimler)"
      ],
      "metadata": {
        "colab": {
          "base_uri": "https://localhost:8080/"
        },
        "id": "pFZ3IrbrDV01",
        "outputId": "22ede811-a169-431f-e993-d17b3cd712f6"
      },
      "execution_count": null,
      "outputs": [
        {
          "output_type": "stream",
          "name": "stdout",
          "text": [
            "['ayşe', 'burak', 'eda', 'mehmet']\n"
          ]
        }
      ]
    },
    {
      "cell_type": "code",
      "source": [
        "#reverse ile sıralamanın tersini elde ederiz.Yani büyükten küçüğü ve alfabenin sonundan başına.\n",
        "Sayi.reverse()\n",
        "isimler.reverse()\n",
        "print(Sayi)\n",
        "print(isimler)"
      ],
      "metadata": {
        "colab": {
          "base_uri": "https://localhost:8080/"
        },
        "id": "jfXPiL6GDjaR",
        "outputId": "c22ecab7-417c-4c65-8a05-e0fdcaef8265"
      },
      "execution_count": null,
      "outputs": [
        {
          "output_type": "stream",
          "name": "stdout",
          "text": [
            "[80, 75, 65, 53, 49, 36, 15, 13, 12, 9, 6, 6, 4, 3, 3, 1]\n",
            "['mehmet', 'eda', 'burak', 'ayşe']\n"
          ]
        }
      ]
    },
    {
      "cell_type": "code",
      "source": [
        "#Kopyalama\n",
        "#copy kullanarak listelerimizi kopyalayabiliriz\n",
        "harfler=['g','r','ü','e','h','k']\n",
        "harfler2=harfler\n",
        "print(harfler2)\n",
        "harfler3=harfler2.copy()\n",
        "print(harfler3)"
      ],
      "metadata": {
        "colab": {
          "base_uri": "https://localhost:8080/"
        },
        "id": "Ci6XmpbUD_0H",
        "outputId": "5be9d46b-d0db-480c-e90e-376d9f96bcd3"
      },
      "execution_count": null,
      "outputs": [
        {
          "output_type": "stream",
          "name": "stdout",
          "text": [
            "['g', 'r', 'ü', 'e', 'h', 'k']\n",
            "['g', 'r', 'ü', 'e', 'h', 'k']\n"
          ]
        }
      ]
    },
    {
      "cell_type": "markdown",
      "source": [
        "#DİCTİONARİES (SÖZLÜKLER)\n",
        "* dict\n",
        "* Bir anahtar var ve bu anahtara karşılık gelen değerler bulunmaktadır.(key,value)\n",
        "* {} parantez kullanılır\n"
      ],
      "metadata": {
        "id": "63XqBqazFT7j"
      }
    },
    {
      "cell_type": "code",
      "source": [
        "kullanici={'isim':'eda',\n",
        "           'yaş':24,\n",
        "           'medeni durum':False}\n",
        "print(type(kullanici))           \n",
        "print(kullanici)"
      ],
      "metadata": {
        "colab": {
          "base_uri": "https://localhost:8080/"
        },
        "id": "6meTk-GcFL5q",
        "outputId": "6c88992a-3105-4570-db86-4aeec4906512"
      },
      "execution_count": null,
      "outputs": [
        {
          "output_type": "stream",
          "name": "stdout",
          "text": [
            "<class 'dict'>\n",
            "{'isim': 'eda', 'yaş': 24, 'medeni durum': False}\n"
          ]
        }
      ]
    },
    {
      "cell_type": "code",
      "source": [
        "print(kullanici['isim'])\n",
        "#[] köşeli parantes kullanmamızın sebebi normalde indeKleri köşeyi parantez alırız. eda değerinin indeK isim olarak düşünebiliriz"
      ],
      "metadata": {
        "colab": {
          "base_uri": "https://localhost:8080/"
        },
        "id": "j93zCFxMK-nv",
        "outputId": "8aa72ba7-217c-47c9-e3b2-0b151ea258c7"
      },
      "execution_count": null,
      "outputs": [
        {
          "output_type": "stream",
          "name": "stdout",
          "text": [
            "eda\n"
          ]
        }
      ]
    },
    {
      "cell_type": "code",
      "source": [
        "print(kullanici.keys())\n",
        "#sözlüklerimde ki anahtarları yazdırır\n",
        "print(kullanici.values())\n",
        "#Sözlüklerimde ki değerleri yazdırır"
      ],
      "metadata": {
        "colab": {
          "base_uri": "https://localhost:8080/"
        },
        "id": "BZBd6SnsLT35",
        "outputId": "914f5923-0d42-408a-ce43-3c7cbab4e804"
      },
      "execution_count": null,
      "outputs": [
        {
          "output_type": "stream",
          "name": "stdout",
          "text": [
            "dict_keys(['isim', 'yaş', 'medeni durum'])\n",
            "dict_values(['eda', 24, False])\n"
          ]
        }
      ]
    },
    {
      "cell_type": "code",
      "source": [
        "print('medeni durum' in kullanici.keys())\n",
        "#anahtarlarımda 'medeni durum' anahtarı var mı ?\n",
        "print('medini durum' in kullanici.values())"
      ],
      "metadata": {
        "colab": {
          "base_uri": "https://localhost:8080/"
        },
        "id": "t37saJ1QL8xh",
        "outputId": "23486341-bdba-4081-c8ff-288102ca3d85"
      },
      "execution_count": null,
      "outputs": [
        {
          "output_type": "stream",
          "name": "stdout",
          "text": [
            "True\n",
            "False\n"
          ]
        }
      ]
    },
    {
      "cell_type": "markdown",
      "source": [
        "## UYGULAMA\n",
        "VÜCUT KİTLE İNDEKSİ\n",
        "\n",
        "V.K.İ.=Kilo/(BoyBoy)\n",
        "\n",
        "* İSİM \n",
        "* KİLO\n",
        "* BOY"
      ],
      "metadata": {
        "id": "G-9fgv9pNEzd"
      }
    },
    {
      "cell_type": "code",
      "source": [
        "#input ile dışarıdan gelen bir değer alıyoruz.\n",
        "#isim=input() dışardan gelen değeri isime atıyoruz.\n",
        "kisiler=[]\n",
        "\n",
        "isim= str(input('İsim giriniz: '))\n",
        "kilo= float(input('Kilonuzu giriniz: '))\n",
        "boy= float(input('Boyunuzu cm cinsinden giriniz: '))\n",
        "\n",
        "vki=round(kilo/(boy**2))\n",
        "kisi={isim:vki}\n",
        "kisiler.append(kisi)\n",
        "\n",
        "print(kisiler)\n",
        "\n"
      ],
      "metadata": {
        "colab": {
          "base_uri": "https://localhost:8080/"
        },
        "id": "_W57mfigMblB",
        "outputId": "87b6c275-cfe5-4a89-cf2c-c6da3923b3e2"
      },
      "execution_count": null,
      "outputs": [
        {
          "output_type": "stream",
          "name": "stdout",
          "text": [
            "İsim giriniz: eda\n",
            "Kilonuzu giriniz: 66\n",
            "Boyunuzu cm cinsinden giriniz: 1.57\n",
            "[{'eda': 27}]\n"
          ]
        }
      ]
    }
  ]
}